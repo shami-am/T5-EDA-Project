{
 "cells": [
  {
   "cell_type": "markdown",
   "id": "418a65ea",
   "metadata": {},
   "source": [
    "# EDA Project Write Up"
   ]
  },
  {
   "cell_type": "code",
   "execution_count": 1,
   "id": "77371032",
   "metadata": {},
   "outputs": [],
   "source": [
    "import numpy as np\n",
    "import pandas as pd\n",
    "import matplotlib.pyplot as plt\n",
    "import seaborn as sns\n",
    "import datetime\n",
    "from sqlalchemy import create_engine\n",
    "\n",
    "%matplotlib inline"
   ]
  },
  {
   "cell_type": "markdown",
   "id": "bc4c4071",
   "metadata": {},
   "source": [
    "Establish a connection to SQLite and store the table in Pandas DataFrames"
   ]
  },
  {
   "cell_type": "code",
   "execution_count": 14,
   "id": "849dbae5",
   "metadata": {},
   "outputs": [],
   "source": [
    "engine = create_engine(\"sqlite:///data/mta_ts_2021.db\")\n",
    "\n",
    "ts_2021_df = pd.read_sql('select * from mta_ts_2021', con=engine)"
   ]
  },
  {
   "cell_type": "markdown",
   "id": "a6f1fb63",
   "metadata": {},
   "source": [
    "Select subway stations located in Manhattan"
   ]
  },
  {
   "cell_type": "code",
   "execution_count": 4,
   "id": "e1912055",
   "metadata": {},
   "outputs": [],
   "source": [
    "station_list = ['PRINCE ST', '8 ST-NYU', '1 AV', '33 ST', '28 ST', '42 ST-BRYANT PK', '47-50 STS ROCK', '50 ST', '5 AV/53 ST',\n",
    "               '57 ST', '72 ST', '77 ST', '86 ST', '34 ST-HUSON YD', '96 ST', '103 ST', 'TIMES SQ-42 ST']"
   ]
  },
  {
   "cell_type": "markdown",
   "id": "aa55acbc",
   "metadata": {},
   "source": [
    "Filter DataFrame by the list of stations in Manhattan"
   ]
  },
  {
   "cell_type": "code",
   "execution_count": 18,
   "id": "cc65ebb9",
   "metadata": {},
   "outputs": [],
   "source": [
    "ts_manhattan_2021_df = ts_2021_df[ts_2021_df['STATION'].isin(station_list)].reset_index(drop=True)"
   ]
  },
  {
   "cell_type": "markdown",
   "id": "379e4762",
   "metadata": {},
   "source": [
    "Drop duplicates (if present)"
   ]
  },
  {
   "cell_type": "code",
   "execution_count": 1,
   "id": "d92b0c28",
   "metadata": {},
   "outputs": [
    {
     "ename": "NameError",
     "evalue": "name 'ts_manhattan_2021_df' is not defined",
     "output_type": "error",
     "traceback": [
      "\u001b[1;31m---------------------------------------------------------------------------\u001b[0m",
      "\u001b[1;31mNameError\u001b[0m                                 Traceback (most recent call last)",
      "\u001b[1;32m~\\AppData\\Local\\Temp/ipykernel_6164/1065275755.py\u001b[0m in \u001b[0;36m<module>\u001b[1;34m\u001b[0m\n\u001b[1;32m----> 1\u001b[1;33m \u001b[0mts_manhattan_2021_df\u001b[0m\u001b[1;33m.\u001b[0m\u001b[0mdrop_duplicates\u001b[0m\u001b[1;33m(\u001b[0m\u001b[0msubset\u001b[0m\u001b[1;33m=\u001b[0m\u001b[1;33m[\u001b[0m\u001b[1;34m\"C/A\"\u001b[0m\u001b[1;33m,\u001b[0m \u001b[1;34m\"UNIT\"\u001b[0m\u001b[1;33m,\u001b[0m \u001b[1;34m\"SCP\"\u001b[0m\u001b[1;33m,\u001b[0m \u001b[1;34m\"STATION\"\u001b[0m\u001b[1;33m,\u001b[0m \u001b[1;34m\"DATE\"\u001b[0m\u001b[1;33m]\u001b[0m\u001b[1;33m,\u001b[0m \u001b[0minplace\u001b[0m\u001b[1;33m=\u001b[0m\u001b[1;32mTrue\u001b[0m\u001b[1;33m)\u001b[0m\u001b[1;33m\u001b[0m\u001b[1;33m\u001b[0m\u001b[0m\n\u001b[0m",
      "\u001b[1;31mNameError\u001b[0m: name 'ts_manhattan_2021_df' is not defined"
     ]
    }
   ],
   "source": [
    "ts_manhattan_2021_df.drop_duplicates(subset=[\"C/A\", \"UNIT\", \"SCP\", \"STATION\", \"DATE\"], inplace=True)"
   ]
  },
  {
   "cell_type": "markdown",
   "id": "a706b1d9",
   "metadata": {},
   "source": [
    "Convert date column from object to datetime"
   ]
  },
  {
   "cell_type": "code",
   "execution_count": 19,
   "id": "ca8cd229",
   "metadata": {},
   "outputs": [],
   "source": [
    "ts_manhattan_2021_df[\"DATE\"] = pd.to_datetime(ts_manhattan_2021_df.DATE, format=\"%m/%d/%Y\")"
   ]
  },
  {
   "cell_type": "markdown",
   "id": "d552f4ca",
   "metadata": {},
   "source": [
    "Remove days from 2020"
   ]
  },
  {
   "cell_type": "code",
   "execution_count": 22,
   "id": "2f93615f",
   "metadata": {
    "scrolled": false
   },
   "outputs": [
    {
     "data": {
      "text/html": [
       "<div>\n",
       "<style scoped>\n",
       "    .dataframe tbody tr th:only-of-type {\n",
       "        vertical-align: middle;\n",
       "    }\n",
       "\n",
       "    .dataframe tbody tr th {\n",
       "        vertical-align: top;\n",
       "    }\n",
       "\n",
       "    .dataframe thead th {\n",
       "        text-align: right;\n",
       "    }\n",
       "</style>\n",
       "<table border=\"1\" class=\"dataframe\">\n",
       "  <thead>\n",
       "    <tr style=\"text-align: right;\">\n",
       "      <th></th>\n",
       "      <th>C/A</th>\n",
       "      <th>UNIT</th>\n",
       "      <th>SCP</th>\n",
       "      <th>STATION</th>\n",
       "      <th>LINENAME</th>\n",
       "      <th>DIVISION</th>\n",
       "      <th>DATE</th>\n",
       "      <th>TIME</th>\n",
       "      <th>DESC</th>\n",
       "      <th>ENTRIES</th>\n",
       "      <th>EXITS</th>\n",
       "    </tr>\n",
       "  </thead>\n",
       "  <tbody>\n",
       "    <tr>\n",
       "      <th>0</th>\n",
       "      <td>A021</td>\n",
       "      <td>R032</td>\n",
       "      <td>01-00-00</td>\n",
       "      <td>TIMES SQ-42 ST</td>\n",
       "      <td>ACENQRS1237W</td>\n",
       "      <td>BMT</td>\n",
       "      <td>2021-01-01</td>\n",
       "      <td>03:00:00</td>\n",
       "      <td>REGULAR</td>\n",
       "      <td>9857895</td>\n",
       "      <td>12321630</td>\n",
       "    </tr>\n",
       "    <tr>\n",
       "      <th>1</th>\n",
       "      <td>A021</td>\n",
       "      <td>R032</td>\n",
       "      <td>01-00-00</td>\n",
       "      <td>TIMES SQ-42 ST</td>\n",
       "      <td>ACENQRS1237W</td>\n",
       "      <td>BMT</td>\n",
       "      <td>2021-01-01</td>\n",
       "      <td>07:00:00</td>\n",
       "      <td>REGULAR</td>\n",
       "      <td>9857905</td>\n",
       "      <td>12321649</td>\n",
       "    </tr>\n",
       "    <tr>\n",
       "      <th>2</th>\n",
       "      <td>A021</td>\n",
       "      <td>R032</td>\n",
       "      <td>01-00-00</td>\n",
       "      <td>TIMES SQ-42 ST</td>\n",
       "      <td>ACENQRS1237W</td>\n",
       "      <td>BMT</td>\n",
       "      <td>2021-01-01</td>\n",
       "      <td>11:00:00</td>\n",
       "      <td>REGULAR</td>\n",
       "      <td>9857950</td>\n",
       "      <td>12321737</td>\n",
       "    </tr>\n",
       "    <tr>\n",
       "      <th>3</th>\n",
       "      <td>A021</td>\n",
       "      <td>R032</td>\n",
       "      <td>01-00-00</td>\n",
       "      <td>TIMES SQ-42 ST</td>\n",
       "      <td>ACENQRS1237W</td>\n",
       "      <td>BMT</td>\n",
       "      <td>2021-01-01</td>\n",
       "      <td>15:00:00</td>\n",
       "      <td>REGULAR</td>\n",
       "      <td>9858028</td>\n",
       "      <td>12321901</td>\n",
       "    </tr>\n",
       "    <tr>\n",
       "      <th>4</th>\n",
       "      <td>A021</td>\n",
       "      <td>R032</td>\n",
       "      <td>01-00-00</td>\n",
       "      <td>TIMES SQ-42 ST</td>\n",
       "      <td>ACENQRS1237W</td>\n",
       "      <td>BMT</td>\n",
       "      <td>2021-01-01</td>\n",
       "      <td>19:00:00</td>\n",
       "      <td>REGULAR</td>\n",
       "      <td>9858108</td>\n",
       "      <td>12322108</td>\n",
       "    </tr>\n",
       "    <tr>\n",
       "      <th>...</th>\n",
       "      <td>...</td>\n",
       "      <td>...</td>\n",
       "      <td>...</td>\n",
       "      <td>...</td>\n",
       "      <td>...</td>\n",
       "      <td>...</td>\n",
       "      <td>...</td>\n",
       "      <td>...</td>\n",
       "      <td>...</td>\n",
       "      <td>...</td>\n",
       "      <td>...</td>\n",
       "    </tr>\n",
       "    <tr>\n",
       "      <th>752957</th>\n",
       "      <td>R252</td>\n",
       "      <td>R180</td>\n",
       "      <td>00-03-02</td>\n",
       "      <td>103 ST</td>\n",
       "      <td>6</td>\n",
       "      <td>IRT</td>\n",
       "      <td>2021-10-08</td>\n",
       "      <td>05:00:00</td>\n",
       "      <td>REGULAR</td>\n",
       "      <td>26262213</td>\n",
       "      <td>45004517</td>\n",
       "    </tr>\n",
       "    <tr>\n",
       "      <th>752958</th>\n",
       "      <td>R252</td>\n",
       "      <td>R180</td>\n",
       "      <td>00-03-02</td>\n",
       "      <td>103 ST</td>\n",
       "      <td>6</td>\n",
       "      <td>IRT</td>\n",
       "      <td>2021-10-08</td>\n",
       "      <td>09:00:00</td>\n",
       "      <td>REGULAR</td>\n",
       "      <td>26262505</td>\n",
       "      <td>45004882</td>\n",
       "    </tr>\n",
       "    <tr>\n",
       "      <th>752959</th>\n",
       "      <td>R252</td>\n",
       "      <td>R180</td>\n",
       "      <td>00-03-02</td>\n",
       "      <td>103 ST</td>\n",
       "      <td>6</td>\n",
       "      <td>IRT</td>\n",
       "      <td>2021-10-08</td>\n",
       "      <td>13:00:00</td>\n",
       "      <td>REGULAR</td>\n",
       "      <td>26262754</td>\n",
       "      <td>45005198</td>\n",
       "    </tr>\n",
       "    <tr>\n",
       "      <th>752960</th>\n",
       "      <td>R252</td>\n",
       "      <td>R180</td>\n",
       "      <td>00-03-02</td>\n",
       "      <td>103 ST</td>\n",
       "      <td>6</td>\n",
       "      <td>IRT</td>\n",
       "      <td>2021-10-08</td>\n",
       "      <td>17:00:00</td>\n",
       "      <td>REGULAR</td>\n",
       "      <td>26263188</td>\n",
       "      <td>45005627</td>\n",
       "    </tr>\n",
       "    <tr>\n",
       "      <th>752961</th>\n",
       "      <td>R252</td>\n",
       "      <td>R180</td>\n",
       "      <td>00-03-02</td>\n",
       "      <td>103 ST</td>\n",
       "      <td>6</td>\n",
       "      <td>IRT</td>\n",
       "      <td>2021-10-08</td>\n",
       "      <td>21:00:00</td>\n",
       "      <td>REGULAR</td>\n",
       "      <td>26263468</td>\n",
       "      <td>45006032</td>\n",
       "    </tr>\n",
       "  </tbody>\n",
       "</table>\n",
       "<p>752962 rows × 11 columns</p>\n",
       "</div>"
      ],
      "text/plain": [
       "         C/A  UNIT       SCP         STATION      LINENAME DIVISION  \\\n",
       "0       A021  R032  01-00-00  TIMES SQ-42 ST  ACENQRS1237W      BMT   \n",
       "1       A021  R032  01-00-00  TIMES SQ-42 ST  ACENQRS1237W      BMT   \n",
       "2       A021  R032  01-00-00  TIMES SQ-42 ST  ACENQRS1237W      BMT   \n",
       "3       A021  R032  01-00-00  TIMES SQ-42 ST  ACENQRS1237W      BMT   \n",
       "4       A021  R032  01-00-00  TIMES SQ-42 ST  ACENQRS1237W      BMT   \n",
       "...      ...   ...       ...             ...           ...      ...   \n",
       "752957  R252  R180  00-03-02          103 ST             6      IRT   \n",
       "752958  R252  R180  00-03-02          103 ST             6      IRT   \n",
       "752959  R252  R180  00-03-02          103 ST             6      IRT   \n",
       "752960  R252  R180  00-03-02          103 ST             6      IRT   \n",
       "752961  R252  R180  00-03-02          103 ST             6      IRT   \n",
       "\n",
       "             DATE      TIME     DESC   ENTRIES     EXITS  \n",
       "0      2021-01-01  03:00:00  REGULAR   9857895  12321630  \n",
       "1      2021-01-01  07:00:00  REGULAR   9857905  12321649  \n",
       "2      2021-01-01  11:00:00  REGULAR   9857950  12321737  \n",
       "3      2021-01-01  15:00:00  REGULAR   9858028  12321901  \n",
       "4      2021-01-01  19:00:00  REGULAR   9858108  12322108  \n",
       "...           ...       ...      ...       ...       ...  \n",
       "752957 2021-10-08  05:00:00  REGULAR  26262213  45004517  \n",
       "752958 2021-10-08  09:00:00  REGULAR  26262505  45004882  \n",
       "752959 2021-10-08  13:00:00  REGULAR  26262754  45005198  \n",
       "752960 2021-10-08  17:00:00  REGULAR  26263188  45005627  \n",
       "752961 2021-10-08  21:00:00  REGULAR  26263468  45006032  \n",
       "\n",
       "[752962 rows x 11 columns]"
      ]
     },
     "execution_count": 22,
     "metadata": {},
     "output_type": "execute_result"
    }
   ],
   "source": [
    "ts_manhattan_2021_df[ts_manhattan_2021_df['DATE'] > pd.to_datetime('12/31/2020', format=\"%m/%d/%Y\")].reset_index(drop=True)"
   ]
  },
  {
   "cell_type": "markdown",
   "id": "20900240",
   "metadata": {},
   "source": [
    " Entries and exits of each turnstile in each station per day"
   ]
  },
  {
   "cell_type": "code",
   "execution_count": 23,
   "id": "a1767713",
   "metadata": {},
   "outputs": [],
   "source": [
    "ts_daily_traffic = (ts_manhattan_2021_df.groupby([\"C/A\", \"UNIT\", \"SCP\", \"STATION\", \"DATE\"], as_index=False)[['ENTRIES', 'EXITS']].first())"
   ]
  },
  {
   "cell_type": "markdown",
   "id": "7e5d2a6d",
   "metadata": {},
   "source": [
    "Create \"PREV_DATE\", \"PREV_ENTRIES\", and \"PREV_EXITS\" columns and fill them with the previous values of \"DATE\", \"ENTRIES\", and \"EXITS\""
   ]
  },
  {
   "cell_type": "code",
   "execution_count": 24,
   "id": "241f68ce",
   "metadata": {},
   "outputs": [],
   "source": [
    "ts_daily_traffic[[\"PREV_DATE\", \"PREV_ENTRIES\", \"PREV_EXITS\"]] = (ts_daily_traffic.groupby([\"C/A\", \"UNIT\", \"SCP\", \"STATION\"])[[\"DATE\", \"ENTRIES\", \"EXITS\"]].apply(lambda grp: grp.shift(1)))\n",
    "ts_daily_traffic.dropna(subset=[\"PREV_DATE\"], axis=0, inplace=True)"
   ]
  },
  {
   "cell_type": "markdown",
   "id": "1a7dd55e",
   "metadata": {},
   "source": [
    "This function is used to calculate the daily entries and exits"
   ]
  },
  {
   "cell_type": "code",
   "execution_count": 25,
   "id": "d74cee58",
   "metadata": {},
   "outputs": [],
   "source": [
    "def get_daily_counts(row, max_counter, traffic_type):\n",
    "    counter = row[traffic_type] - row[f\"PREV_{traffic_type}\"]\n",
    "    if counter < 0:\n",
    "        counter = -counter\n",
    "    if counter > max_counter:\n",
    "        counter = min(row[traffic_type], row[f\"PREV_{traffic_type}\"])\n",
    "    if counter > max_counter:\n",
    "        return 0\n",
    "    return counter"
   ]
  },
  {
   "cell_type": "code",
   "execution_count": 26,
   "id": "95fc5184",
   "metadata": {},
   "outputs": [],
   "source": [
    "ts_daily_traffic[\"DAILY_ENTRIES\"] = ts_daily_traffic.apply(get_daily_counts, axis=1, max_counter=50000, traffic_type='ENTRIES')\n",
    "ts_daily_traffic[\"DAILY_EXITS\"] = ts_daily_traffic.apply(get_daily_counts, axis=1, max_counter=50000, traffic_type='EXITS')"
   ]
  },
  {
   "cell_type": "code",
   "execution_count": 36,
   "id": "6040e628",
   "metadata": {},
   "outputs": [],
   "source": [
    "stn_daily_traffic = ts_daily_traffic.groupby([\"STATION\", \"DATE\"])[[\"DAILY_ENTRIES\", \"DAILY_EXITS\"]].sum().reset_index()"
   ]
  },
  {
   "cell_type": "markdown",
   "id": "8f4a6325",
   "metadata": {},
   "source": [
    "This function finds anomalies in the passed Series and returns the index of each anomaly in a list"
   ]
  },
  {
   "cell_type": "code",
   "execution_count": 37,
   "id": "30133d85",
   "metadata": {},
   "outputs": [],
   "source": [
    "def find_anomalies(data):\n",
    "    anomalies = []\n",
    "    \n",
    "    data_mean = data.mean()\n",
    "    anomaly_cut_off = data.std() * 3\n",
    "    lower_lim = data_mean - anomaly_cut_off\n",
    "    upper_lim = data_mean + anomaly_cut_off\n",
    "    \n",
    "    for index, value in enumerate(data):\n",
    "        if value > upper_lim or value < lower_lim:\n",
    "            anomalies.append(index)\n",
    "    \n",
    "    return anomalies"
   ]
  },
  {
   "cell_type": "markdown",
   "id": "011f0738",
   "metadata": {},
   "source": [
    "Drop the anomalies from the DataFrame using the above function"
   ]
  },
  {
   "cell_type": "code",
   "execution_count": 38,
   "id": "bcbd48fc",
   "metadata": {
    "scrolled": false
   },
   "outputs": [],
   "source": [
    "stn_daily_traffic = stn_daily_traffic.drop(index=find_anomalies(stn_daily_traffic['DAILY_ENTRIES']), errors='ignore')\n",
    "stn_daily_traffic = stn_daily_traffic.drop(index=find_anomalies(stn_daily_traffic['DAILY_EXITS']), errors='ignore')"
   ]
  },
  {
   "cell_type": "markdown",
   "id": "a84e8595",
   "metadata": {},
   "source": [
    "Create \"DAILY_TRAFFIC\" column which is the sum of \"DAILY_ENTRIES\" and \"DAILY_EXITS\""
   ]
  },
  {
   "cell_type": "code",
   "execution_count": 39,
   "id": "e4f5cbc4",
   "metadata": {},
   "outputs": [],
   "source": [
    "stn_daily_traffic['DAILY_TRAFFIC'] = stn_daily_traffic[['DAILY_ENTRIES', 'DAILY_EXITS']].sum(axis=1)"
   ]
  },
  {
   "cell_type": "markdown",
   "id": "9d4c7192",
   "metadata": {},
   "source": [
    "Create \"DAY\" column and fill with the day of the week depending on the date"
   ]
  },
  {
   "cell_type": "code",
   "execution_count": 71,
   "id": "0ef23f6a",
   "metadata": {},
   "outputs": [],
   "source": [
    "def day_of_week(date):\n",
    "    day = date.dayofweek\n",
    "    week = {0: 'Monday', 1: 'Tuesday', 2: 'Wednesday', 3: 'Thursday', 4: 'Friday', 5: 'Saturday', 6: 'Sunday'}\n",
    "    return week[day]"
   ]
  },
  {
   "cell_type": "code",
   "execution_count": 72,
   "id": "6cec9650",
   "metadata": {},
   "outputs": [],
   "source": [
    "stn_daily_traffic['DAY'] = stn_daily_traffic['DATE'].apply(day_of_week)"
   ]
  },
  {
   "cell_type": "markdown",
   "id": "6254f78b",
   "metadata": {},
   "source": [
    "Total traffic per station throughout 2021"
   ]
  },
  {
   "cell_type": "code",
   "execution_count": 43,
   "id": "5fcc1eb1",
   "metadata": {},
   "outputs": [],
   "source": [
    "stn_total = stn_daily_traffic.groupby('STATION')[['DAILY_ENTRIES', 'DAILY_EXITS', 'DAILY_TRAFFIC']].sum().reset_index()"
   ]
  },
  {
   "cell_type": "code",
   "execution_count": 69,
   "id": "0632f429",
   "metadata": {
    "scrolled": false
   },
   "outputs": [
    {
     "data": {
      "image/png": "[encoded data removed]",
      "text/plain": [
       "<Figure size 1296x576 with 1 Axes>"
      ]
     },
     "metadata": {
      "needs_background": "light"
     },
     "output_type": "display_data"
    }
   ],
   "source": [
    "plt.figure(figsize=(18,8))\n",
    "plt.bar(stn_daily_traffic['DATE'], stn_daily_traffic['DAILY_TRAFFIC'], alpha=0.7, color='darkred')\n",
    "plt.title('Daily Foot Traffic in Manhattan Stations Throughout 2021');"
   ]
  },
  {
   "cell_type": "code",
   "execution_count": 135,
   "id": "ffe0fbad",
   "metadata": {
    "scrolled": false
   },
   "outputs": [
    {
     "data": {
      "image/png": "[encoded data removed]",
      "text/plain": [
       "<Figure size 1296x576 with 1 Axes>"
      ]
     },
     "metadata": {
      "needs_background": "light"
     },
     "output_type": "display_data"
    }
   ],
   "source": [
    "sorted_stn_total = stn_total.sort_values(by=['DAILY_TRAFFIC'], ascending=False)\n",
    "plt.figure(figsize=(18,8))\n",
    "plt.bar(sorted_stn_total['STATION'], sorted_stn_total['DAILY_TRAFFIC'], color=['darkred'])\n",
    "plt.xticks(rotation=45)\n",
    "plt.xlabel('Stations', fontsize=16)\n",
    "plt.ylabel('Total Traffic', fontsize=16)\n",
    "plt.title('Total Foot Traffic of Manhattan Stations Throughout 2021', fontsize=22);\n",
    "plt.savefig('top_stations.png', transparent=True, bbox_inches='tight')"
   ]
  },
  {
   "cell_type": "code",
   "execution_count": 148,
   "id": "acb3f197",
   "metadata": {},
   "outputs": [],
   "source": [
    "def short_mil(num):\n",
    "    return str(round(num/1000000, 2))+' M'"
   ]
  },
  {
   "cell_type": "code",
   "execution_count": 156,
   "id": "9992f63a",
   "metadata": {
    "scrolled": false
   },
   "outputs": [
    {
     "data": {
      "image/png": "[encoded data removed]",
      "text/plain": [
       "<Figure size 1296x576 with 1 Axes>"
      ]
     },
     "metadata": {
      "needs_background": "light"
     },
     "output_type": "display_data"
    }
   ],
   "source": [
    "sorted_stn_total = stn_total.sort_values(by=['DAILY_TRAFFIC'], ascending=False)\n",
    "plt.figure(figsize=(18,8))\n",
    "plt.barh(sorted_stn_total['STATION'][:5], sorted_stn_total['DAILY_TRAFFIC'][:5], color=['darkred'])\n",
    "plt.xticks([])\n",
    "plt.yticks(fontsize=16)\n",
    "plt.ylabel('Stations', fontsize=16)\n",
    "plt.title('Total Foot Traffic of Top 5 Manhattan Stations Throughout 2021', fontsize=22);\n",
    "\n",
    "for index, value in enumerate(sorted_stn_total['DAILY_TRAFFIC'][:5]):\n",
    "    plt.text(value, index, short_mil(value), fontsize=13)\n",
    "    \n",
    "plt.savefig('top_5_stations.png', transparent=True, bbox_inches='tight')"
   ]
  },
  {
   "cell_type": "code",
   "execution_count": 143,
   "id": "764e7d74",
   "metadata": {},
   "outputs": [
    {
     "data": {
      "text/plain": [
       "12698473.0"
      ]
     },
     "execution_count": 143,
     "metadata": {},
     "output_type": "execute_result"
    }
   ],
   "source": [
    "n = 12698473.0\n",
    "round(n, 1)"
   ]
  },
  {
   "cell_type": "code",
   "execution_count": 118,
   "id": "2fe15aa8",
   "metadata": {},
   "outputs": [],
   "source": [
    "top_5_stations = ['TIMES SQ-42 ST', '96 ST', '86 ST', '72 ST', '47-50 STS ROCK']"
   ]
  },
  {
   "cell_type": "code",
   "execution_count": 119,
   "id": "1d70e3f9",
   "metadata": {},
   "outputs": [
    {
     "data": {
      "image/png": "[encoded data removed]",
      "text/plain": [
       "<Figure size 720x720 with 2 Axes>"
      ]
     },
     "metadata": {
      "needs_background": "light"
     },
     "output_type": "display_data"
    }
   ],
   "source": [
    "mask = ((stn_daily_traffic['DATE'] > pd.to_datetime('08/31/2021', format='%m/%d/%Y')) &\n",
    "       (stn_daily_traffic['DATE'] < pd.to_datetime('10/01/2021', format='%m/%d/%Y')) &\n",
    "       (stn_daily_traffic['STATION'].isin(top_5_stations)))\n",
    "\n",
    "df = stn_daily_traffic[mask]\n",
    "\n",
    "station_day = df.groupby(['STATION','DAY'])['DAILY_TRAFFIC'].sum()\n",
    "group_station = df.groupby(['STATION'])['DAILY_TRAFFIC'].sum().sort_values(ascending=False)\n",
    "\n",
    "matrix_station_day = station_day.unstack()\n",
    "matrix_station_day.reset_index()\n",
    "matrix_station_day = matrix_station_day.reindex(columns=[\"Monday\",\"Tuesday\",\"Wednesday\",\"Thursday\",\"Friday\",\"Saturday\",\"Sunday\"])\n",
    "matrix_station_day = matrix_station_day.reindex(index=list(group_station.head(10).index))\n",
    "matrix_station_day\n",
    "\n",
    "fig2 = plt.figure(figsize=[10,10])\n",
    "ax2 = sns.heatmap(matrix_station_day, linecolor='white', linewidths=1)\n",
    "plt.savefig('heatmap.png', transparent=True, bbox_inches='tight')"
   ]
  },
  {
   "cell_type": "code",
   "execution_count": null,
   "id": "9c509542",
   "metadata": {},
   "outputs": [],
   "source": []
  }
 ],
 "metadata": {
  "kernelspec": {
   "display_name": "Python 3 (ipykernel)",
   "language": "python",
   "name": "python3"
  },
  "language_info": {
   "codemirror_mode": {
    "name": "ipython",
    "version": 3
   },
   "file_extension": ".py",
   "mimetype": "text/x-python",
   "name": "python",
   "nbconvert_exporter": "python",
   "pygments_lexer": "ipython3",
   "version": "3.9.2"
  }
 },
 "nbformat": 4,
 "nbformat_minor": 5
}
